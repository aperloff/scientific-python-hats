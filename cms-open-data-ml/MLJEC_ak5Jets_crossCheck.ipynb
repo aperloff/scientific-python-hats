{
 "cells": [
  {
   "cell_type": "code",
   "execution_count": 2,
   "metadata": {},
   "outputs": [
    {
     "name": "stderr",
     "output_type": "stream",
     "text": [
      "Using TensorFlow backend.\n"
     ]
    }
   ],
   "source": [
    "# coding: utf-8\n",
    "import os, getpass\n",
    "\n",
    "if getpass.getuser()=='jovyan':\n",
    "    os.environ['KERAS_BACKEND'] = 'tensorflow'\n",
    "    os.environ['CUDA_VISIBLE_DEVICES'] = '2'\n",
    "from sklearn.preprocessing import LabelEncoder\n",
    "from sklearn.model_selection import train_test_split\n",
    "from sklearn.model_selection import cross_val_score\n",
    "from sklearn.model_selection import StratifiedKFold\n",
    "#http://scikit-learn.org/stable/modules/generated/sklearn.preprocessing.StandardScaler.h\n",
    "#http://scikit-learn.org/stable/modules/generated/sklearn.decomposition.PCA.html#sklearn\n",
    "\n",
    "from sklearn.preprocessing import StandardScaler\n",
    "from sklearn.pipeline import Pipeline\n",
    "#http://scikit-learn.org/stable/tutorial/basic/tutorial.html#model-persistence\n",
    "from sklearn.externals import joblib\n",
    "#https://en.wikipedia.org/wiki/Activation_function\n",
    "from keras.models import Sequential, Model, model_from_json\n",
    "from keras.optimizers import SGD\n",
    "from keras.layers import Input, Activation, Dense, Convolution2D, MaxPooling2D, Dropout, Flatten\n",
    "from keras.utils import np_utils\n",
    "from keras.wrappers.scikit_learn import KerasClassifier\n",
    "from keras.callbacks import EarlyStopping\n",
    "from keras.layers import Merge, merge\n",
    "from keras import backend as K\n",
    "#https://docs.scipy.org/doc/numpy/reference/generated/numpy.clip.html\n",
    "import numpy as np\n",
    "import pandas as pd\n",
    "import sys, glob, argparse, h5py\n",
    "from itertools import cycle\n",
    "from scipy import interp\n",
    "#from ipywidgets import FloatProgress\n",
    "#from IPython.display import display\n",
    "#https://github.com/tqdm/tqdm#latest-conda-release\n",
    "from tqdm import trange, tqdm\n",
    "from MLJEC_MCTruth_Util import rotate_and_reflect, prepare_df_dict, JetImageGenerator\n",
    "import MLJEC_MCTruth_Plot as plotter\n",
    "\n",
    "# fix random seed for reproducibility\n",
    "seed = 7\n",
    "np.random.seed(seed)"
   ]
  },
  {
   "cell_type": "code",
   "execution_count": 3,
   "metadata": {
    "collapsed": true
   },
   "outputs": [],
   "source": [
    "# get input numpy arrays\n",
    "inputs = {}\n",
    "inputs['QCD80'] = glob.glob('QCD_pt_80_120.npy')\n",
    "inputs['QCD120'] = glob.glob('QCD_pt_120_170.npy')\n",
    "inputs['QCD170'] = glob.glob('QCD_pt_170_300.npy')\n",
    "list_params = {}\n",
    "params = {}\n",
    "for key, input_files in inputs.iteritems():\n",
    "    list_params[key] = []\n",
    "    for in_file in input_files:\n",
    "        try:\n",
    "            arr = np.load(in_file)\n",
    "            list_params[key].append(arr)\n",
    "        except ValueError:\n",
    "            print 'bad file: %s'%in_file\n",
    "    params[key] = np.concatenate(list_params[key])"
   ]
  },
  {
   "cell_type": "code",
   "execution_count": 4,
   "metadata": {},
   "outputs": [
    {
     "name": "stdout",
     "output_type": "stream",
     "text": [
      "('run', 'lumi', 'event', 'met', 'sumet', 'rho', 'pthat', 'mcweight', 'njet', 'jet_pt', 'jet_eta', 'jet_phi', 'jet_E', 'jet_area', 'jet_jes', 'chf', 'nhf', 'phf', 'elf', 'muf', 'hf_hf', 'hf_phf', 'hf_hm', 'hf_phm', 'chm', 'nhm', 'phm', 'elm', 'mum', 'beta', 'bstar', 'ak5pfcand_pt', 'ak5pfcand_eta', 'ak5pfcand_phi', 'ak5pfcand_id', 'ak5pfcand_charge', 'ak5pfcand_ijet')\n"
     ]
    }
   ],
   "source": [
    "print params['QCD80'].dtype.names"
   ]
  },
  {
   "cell_type": "code",
   "execution_count": 5,
   "metadata": {
    "collapsed": true
   },
   "outputs": [],
   "source": [
    "df_dict_jet = {}\n",
    "df_dict_cand = {}"
   ]
  },
  {
   "cell_type": "code",
   "execution_count": 8,
   "metadata": {},
   "outputs": [],
   "source": [
    "for QCDBin in ['QCD80','QCD120','QCD170']:\n",
    "    df_dict_jet[QCDBin] = pd.DataFrame(params[QCDBin],columns=['run', 'lumi', 'event', 'met', 'sumet', 'rho', 'pthat', 'mcweight', 'njet', 'jet_pt', 'jet_eta', 'jet_phi', 'jet_E', 'jet_area', 'jet_jes', 'chf', 'nhf', 'phf', 'elf', 'muf', 'hf_hf', 'hf_phf', 'hf_hm', 'hf_phm', 'chm', 'nhm', 'phm', 'elm', 'mum', 'beta', 'bstar','ak5pfcand_ijet'])\n",
    "    df_dict_jet[QCDBin] = df_dict_jet[QCDBin].drop_duplicates()\n",
    "    df_dict_jet[QCDBin] = df_dict_jet[QCDBin][(df_dict_jet[QCDBin].jet_pt > 80)]\n",
    "    df_dict_cand[QCDBin] = pd.DataFrame(params[QCDBin], columns=['event', 'jet_pt', 'jet_eta', 'jet_phi','ak5pfcand_pt', 'ak5pfcand_eta', 'ak5pfcand_phi', 'ak5pfcand_id', 'ak5pfcand_charge', 'ak5pfcand_ijet'])\n",
    "    df_dict_cand[QCDBin] = df_dict_cand[QCDBin][(df_dict_cand[QCDBin].jet_pt > 80)]"
   ]
  },
  {
   "cell_type": "code",
   "execution_count": 9,
   "metadata": {
    "collapsed": true
   },
   "outputs": [],
   "source": [
    "df_dict_jets = pd.concat([df_dict_jet['QCD80'],df_dict_jet['QCD120'],df_dict_jet['QCD170']])\n",
    "df_dict_cands = pd.concat([df_dict_cand['QCD80'],df_dict_cand['QCD120'],df_dict_cand['QCD170']])\n"
   ]
  },
  {
   "cell_type": "code",
   "execution_count": 10,
   "metadata": {
    "collapsed": true
   },
   "outputs": [],
   "source": [
    "####################\n",
    "# Global Variables #\n",
    "####################\n",
    "nx = 30 # size of image in eta\n",
    "ny = 30 # size of image in phi\n",
    "xbins = np.linspace(-1.4,1.4,nx+1)\n",
    "ybins = np.linspace(-1.4,1.4,ny+1)\n",
    "# fix random seed for reproducibility\n",
    "seed = 7\n",
    "np.random.seed(seed)\n",
    "\n",
    "# rotation + (possible) reflection needed later\n",
    "def rotate_and_reflect(x,y,w):\n",
    "    rot_x = []\n",
    "    rot_y = []\n",
    "    theta = 0\n",
    "    maxPt = -1\n",
    "    for ix, iy, iw in zip(x, y, w):\n",
    "        dv = np.matrix([[ix],[iy]])-np.matrix([[x.iloc[0]],[y.iloc[0]]])\n",
    "        dR = np.linalg.norm(dv)\n",
    "        thisPt = iw\n",
    "        if dR > 0.35 and thisPt > maxPt:\n",
    "            maxPt = thisPt\n",
    "            # rotation in eta-phi plane c.f  https://arxiv.org/abs/1407.5675 and https://arxiv.org/abs/1511.05190:\n",
    "            # theta = -np.arctan2(iy,ix)-np.radians(90)\n",
    "            # rotation by lorentz transformation c.f. https://arxiv.org/abs/1704.02124:\n",
    "            px = iw * np.cos(iy)\n",
    "            py = iw * np.sin(iy)\n",
    "            pz = iw * np.sinh(ix)\n",
    "            theta = np.arctan2(py,pz)+np.radians(90)\n",
    "\n",
    "    c, s = np.cos(theta), np.sin(theta)\n",
    "    R = np.matrix('{} {}; {} {}'.format(c, -s, s, c))\n",
    "    for ix, iy, iw in zip(x, y, w):\n",
    "        # rotation in eta-phi plane:\n",
    "        #rot = R*np.matrix([[ix],[iy]])\n",
    "        #rix, riy = rot[0,0], rot[1,0]\n",
    "        # rotation by lorentz transformation\n",
    "        px = iw * np.cos(iy)\n",
    "        py = iw * np.sin(iy)\n",
    "        pz = iw * np.sinh(ix)\n",
    "        rot = R*np.matrix([[py],[pz]])\n",
    "        rix, riy = np.arcsinh(rot[1,0]/iw), np.arcsin(rot[0,0]/iw)\n",
    "        rot_x.append(rix)\n",
    "        rot_y.append(riy)\n",
    "\n",
    "    # now reflect if leftSum > rightSum\n",
    "    leftSum = 0\n",
    "    rightSum = 0\n",
    "    for ix, iy, iw in zip(x, y, w):\n",
    "        if ix > 0:\n",
    "            rightSum += iw\n",
    "        elif ix < 0:\n",
    "            leftSum += iw\n",
    "    if leftSum > rightSum:\n",
    "        ref_x = [-1.*rix for rix in rot_x]\n",
    "        ref_y = rot_y\n",
    "    else:\n",
    "        ref_x = rot_x\n",
    "        ref_y = rot_y\n",
    "\n",
    "    return np.array(ref_x), np.array(ref_y)\n",
    "\n"
   ]
  },
  {
   "cell_type": "code",
   "execution_count": 11,
   "metadata": {
    "collapsed": true
   },
   "outputs": [],
   "source": [
    "def normalize(x):\n",
    "    # utility function to normalize a tensor by its L2 norm \n",
    "    return x / (K.sqrt(K.mean(K.square(x)))+1e-5)"
   ]
  },
  {
   "cell_type": "code",
   "execution_count": null,
   "metadata": {},
   "outputs": [],
   "source": [
    "list_x = []\n",
    "list_y = []\n",
    "list_w = []\n",
    "njets = 0\n",
    "# 4D tensor\n",
    "# 1st dim is jet index\n",
    "# 2nd dim is pt value (or rgb, etc.)\n",
    "# 3rd dim is eta bin\n",
    "# 4th dim is phi bin\n",
    "if K.image_dim_ordering()=='tf':\n",
    "    jet_images = np.zeros((len(df_dict_jets), nx, ny, 1))\n",
    "else:\n",
    "    jet_images = np.zeros((len(df_dict_jets), 1, nx, ny))\n",
    "\n",
    "for i in range(0, len(df_dict_jets)):\n",
    "    njets+=1\n",
    "    #get the ith jet \n",
    "    df_dict_cand_i = df_dict_cands[(df_dict_cands['ak5pfcand_ijet'] == df_dict_jets['ak5pfcand_ijet'].iloc[i]) &\n",
    "                                   (df_dict_cands['event'] == df_dict_jets['event'].iloc[i]) &\n",
    "                                   (df_dict_cands['jet_pt'] == df_dict_jets['jet_pt'].iloc[i])]\n",
    "    x = df_dict_cand_i['ak5pfcand_eta']-df_dict_cand_i['ak5pfcand_eta'].iloc[0]\n",
    "    y = df_dict_cand_i['ak5pfcand_phi']-df_dict_cand_i['ak5pfcand_phi'].iloc[0]\n",
    "    weights = df_dict_cand_i['ak5pfcand_pt'] # pt of candidate is the weight\n",
    "    #x,y = rotate_and_reflect(x,y,weights)\n",
    "    list_x.append(x)\n",
    "    list_y.append(y)\n",
    "    list_w.append(weights)\n",
    "    hist, xedges, yedges = np.histogram2d(x, y,weights=weights, bins=(xbins,ybins))\n",
    "    for ix in range(0,nx):\n",
    "        for iy in range(0,ny):\n",
    "            if K.image_dim_ordering()=='tf':\n",
    "                jet_images[i,ix,iy,0] = hist[ix,iy]\n",
    "            else:\n",
    "                jet_images[i,0,ix,iy] = hist[ix,iy]\n",
    "all_x = np.concatenate(list_x)\n",
    "all_y = np.concatenate(list_y)\n",
    "all_w = np.concatenate(list_w)\n",
    "all_w = 1.*all_w/njets # to get average\n",
    "plt.figure('W')\n",
    "plt.hist2d(all_x, all_y, weights=all_w, bins=(xbins,ybins), norm=mpl.colors.LogNorm())\n",
    "plt.colorbar()\n",
    "plt.xlabel('eta')\n",
    "plt.ylabel('phi')\n",
    "plt.show()"
   ]
  },
  {
   "cell_type": "code",
   "execution_count": null,
   "metadata": {
    "collapsed": true
   },
   "outputs": [],
   "source": []
  }
 ],
 "metadata": {
  "kernelspec": {
   "display_name": "Python 2",
   "language": "python",
   "name": "python2"
  },
  "language_info": {
   "codemirror_mode": {
    "name": "ipython",
    "version": 2
   },
   "file_extension": ".py",
   "mimetype": "text/x-python",
   "name": "python",
   "nbconvert_exporter": "python",
   "pygments_lexer": "ipython2",
   "version": "2.7.13"
  }
 },
 "nbformat": 4,
 "nbformat_minor": 2
}
